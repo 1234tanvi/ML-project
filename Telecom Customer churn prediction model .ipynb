{
 "cells": [
  {
   "attachments": {},
   "cell_type": "markdown",
   "id": "0923139d-c9f3-4eb9-9f3d-539da18c16b2",
   "metadata": {},
   "source": [
    "**Problem Statement: Telecom Customer Churn Prediction**\n",
    "Customer churn is a critical issue faced by businesses in competitive markets, where retaining existing customers is significantly more cost-effective than acquiring new ones. The ability to predict customer churn accurately is essential for businesses to implement timely interventions and enhance customer satisfaction."
   ]
  },
  {
   "cell_type": "markdown",
   "id": "e8dd57eb-c525-4049-a8f1-c8f441e41be2",
   "metadata": {},
   "source": [
    "**Objective** -Build a machine learning model capable of predicting whether a customer will churn or not based on historical data."
   ]
  },
  {
   "cell_type": "markdown",
   "id": "7465ac23-0735-4f5e-a720-118b1c6188f8",
   "metadata": {},
   "source": [
    "**Scope** -The scope of customer churn prediction is wide and highly beneficial for businesses aiming to reduce churn and improve customer retention. It focuses on predicting which customers are likely to stop using a product or service, allowing businesses to take preventive actions to retain those customers."
   ]
  },
  {
   "cell_type": "code",
   "execution_count": 70,
   "id": "82580e55-50e1-4243-b2b2-26cd59db4c2f",
   "metadata": {},
   "outputs": [],
   "source": [
    "import numpy as np\n",
    "import pandas as pd\n",
    "import matplotlib.pyplot as plt\n",
    "import seaborn as sb\n",
    "import warnings\n",
    "warnings.filterwarnings('ignore')\n",
    "from sklearn.metrics import confusion_matrix\n",
    "from sklearn.metrics import classification_report"
   ]
  },
  {
   "cell_type": "code",
   "execution_count": 71,
   "id": "5a31fb0e-60ea-4643-82c0-cc77cdaeb5a5",
   "metadata": {},
   "outputs": [],
   "source": [
    "df=pd.read_csv(\"Telco-Customer-Churn.csv\")"
   ]
  },
  {
   "cell_type": "code",
   "execution_count": 72,
   "id": "3f89216b-1789-4dca-a17c-ad9991f9298a",
   "metadata": {},
   "outputs": [
    {
     "data": {
      "text/html": [
       "<div>\n",
       "<style scoped>\n",
       "    .dataframe tbody tr th:only-of-type {\n",
       "        vertical-align: middle;\n",
       "    }\n",
       "\n",
       "    .dataframe tbody tr th {\n",
       "        vertical-align: top;\n",
       "    }\n",
       "\n",
       "    .dataframe thead th {\n",
       "        text-align: right;\n",
       "    }\n",
       "</style>\n",
       "<table border=\"1\" class=\"dataframe\">\n",
       "  <thead>\n",
       "    <tr style=\"text-align: right;\">\n",
       "      <th></th>\n",
       "      <th>customerID</th>\n",
       "      <th>gender</th>\n",
       "      <th>SeniorCitizen</th>\n",
       "      <th>Partner</th>\n",
       "      <th>Dependents</th>\n",
       "      <th>tenure</th>\n",
       "      <th>PhoneService</th>\n",
       "      <th>MultipleLines</th>\n",
       "      <th>InternetService</th>\n",
       "      <th>OnlineSecurity</th>\n",
       "      <th>...</th>\n",
       "      <th>DeviceProtection</th>\n",
       "      <th>TechSupport</th>\n",
       "      <th>StreamingTV</th>\n",
       "      <th>StreamingMovies</th>\n",
       "      <th>Contract</th>\n",
       "      <th>PaperlessBilling</th>\n",
       "      <th>PaymentMethod</th>\n",
       "      <th>MonthlyCharges</th>\n",
       "      <th>TotalCharges</th>\n",
       "      <th>Churn</th>\n",
       "    </tr>\n",
       "  </thead>\n",
       "  <tbody>\n",
       "    <tr>\n",
       "      <th>0</th>\n",
       "      <td>7590-VHVEG</td>\n",
       "      <td>Female</td>\n",
       "      <td>0</td>\n",
       "      <td>Yes</td>\n",
       "      <td>No</td>\n",
       "      <td>1</td>\n",
       "      <td>No</td>\n",
       "      <td>No phone service</td>\n",
       "      <td>DSL</td>\n",
       "      <td>No</td>\n",
       "      <td>...</td>\n",
       "      <td>No</td>\n",
       "      <td>No</td>\n",
       "      <td>No</td>\n",
       "      <td>No</td>\n",
       "      <td>Month-to-month</td>\n",
       "      <td>Yes</td>\n",
       "      <td>Electronic check</td>\n",
       "      <td>29.85</td>\n",
       "      <td>29.85</td>\n",
       "      <td>No</td>\n",
       "    </tr>\n",
       "    <tr>\n",
       "      <th>1</th>\n",
       "      <td>5575-GNVDE</td>\n",
       "      <td>Male</td>\n",
       "      <td>0</td>\n",
       "      <td>No</td>\n",
       "      <td>No</td>\n",
       "      <td>34</td>\n",
       "      <td>Yes</td>\n",
       "      <td>No</td>\n",
       "      <td>DSL</td>\n",
       "      <td>Yes</td>\n",
       "      <td>...</td>\n",
       "      <td>Yes</td>\n",
       "      <td>No</td>\n",
       "      <td>No</td>\n",
       "      <td>No</td>\n",
       "      <td>One year</td>\n",
       "      <td>No</td>\n",
       "      <td>Mailed check</td>\n",
       "      <td>56.95</td>\n",
       "      <td>1889.5</td>\n",
       "      <td>No</td>\n",
       "    </tr>\n",
       "    <tr>\n",
       "      <th>2</th>\n",
       "      <td>3668-QPYBK</td>\n",
       "      <td>Male</td>\n",
       "      <td>0</td>\n",
       "      <td>No</td>\n",
       "      <td>No</td>\n",
       "      <td>2</td>\n",
       "      <td>Yes</td>\n",
       "      <td>No</td>\n",
       "      <td>DSL</td>\n",
       "      <td>Yes</td>\n",
       "      <td>...</td>\n",
       "      <td>No</td>\n",
       "      <td>No</td>\n",
       "      <td>No</td>\n",
       "      <td>No</td>\n",
       "      <td>Month-to-month</td>\n",
       "      <td>Yes</td>\n",
       "      <td>Mailed check</td>\n",
       "      <td>53.85</td>\n",
       "      <td>108.15</td>\n",
       "      <td>Yes</td>\n",
       "    </tr>\n",
       "    <tr>\n",
       "      <th>3</th>\n",
       "      <td>7795-CFOCW</td>\n",
       "      <td>Male</td>\n",
       "      <td>0</td>\n",
       "      <td>No</td>\n",
       "      <td>No</td>\n",
       "      <td>45</td>\n",
       "      <td>No</td>\n",
       "      <td>No phone service</td>\n",
       "      <td>DSL</td>\n",
       "      <td>Yes</td>\n",
       "      <td>...</td>\n",
       "      <td>Yes</td>\n",
       "      <td>Yes</td>\n",
       "      <td>No</td>\n",
       "      <td>No</td>\n",
       "      <td>One year</td>\n",
       "      <td>No</td>\n",
       "      <td>Bank transfer (automatic)</td>\n",
       "      <td>42.30</td>\n",
       "      <td>1840.75</td>\n",
       "      <td>No</td>\n",
       "    </tr>\n",
       "    <tr>\n",
       "      <th>4</th>\n",
       "      <td>9237-HQITU</td>\n",
       "      <td>Female</td>\n",
       "      <td>0</td>\n",
       "      <td>No</td>\n",
       "      <td>No</td>\n",
       "      <td>2</td>\n",
       "      <td>Yes</td>\n",
       "      <td>No</td>\n",
       "      <td>Fiber optic</td>\n",
       "      <td>No</td>\n",
       "      <td>...</td>\n",
       "      <td>No</td>\n",
       "      <td>No</td>\n",
       "      <td>No</td>\n",
       "      <td>No</td>\n",
       "      <td>Month-to-month</td>\n",
       "      <td>Yes</td>\n",
       "      <td>Electronic check</td>\n",
       "      <td>70.70</td>\n",
       "      <td>151.65</td>\n",
       "      <td>Yes</td>\n",
       "    </tr>\n",
       "  </tbody>\n",
       "</table>\n",
       "<p>5 rows × 21 columns</p>\n",
       "</div>"
      ],
      "text/plain": [
       "   customerID  gender  SeniorCitizen Partner Dependents  tenure PhoneService  \\\n",
       "0  7590-VHVEG  Female              0     Yes         No       1           No   \n",
       "1  5575-GNVDE    Male              0      No         No      34          Yes   \n",
       "2  3668-QPYBK    Male              0      No         No       2          Yes   \n",
       "3  7795-CFOCW    Male              0      No         No      45           No   \n",
       "4  9237-HQITU  Female              0      No         No       2          Yes   \n",
       "\n",
       "      MultipleLines InternetService OnlineSecurity  ... DeviceProtection  \\\n",
       "0  No phone service             DSL             No  ...               No   \n",
       "1                No             DSL            Yes  ...              Yes   \n",
       "2                No             DSL            Yes  ...               No   \n",
       "3  No phone service             DSL            Yes  ...              Yes   \n",
       "4                No     Fiber optic             No  ...               No   \n",
       "\n",
       "  TechSupport StreamingTV StreamingMovies        Contract PaperlessBilling  \\\n",
       "0          No          No              No  Month-to-month              Yes   \n",
       "1          No          No              No        One year               No   \n",
       "2          No          No              No  Month-to-month              Yes   \n",
       "3         Yes          No              No        One year               No   \n",
       "4          No          No              No  Month-to-month              Yes   \n",
       "\n",
       "               PaymentMethod MonthlyCharges  TotalCharges Churn  \n",
       "0           Electronic check          29.85         29.85    No  \n",
       "1               Mailed check          56.95        1889.5    No  \n",
       "2               Mailed check          53.85        108.15   Yes  \n",
       "3  Bank transfer (automatic)          42.30       1840.75    No  \n",
       "4           Electronic check          70.70        151.65   Yes  \n",
       "\n",
       "[5 rows x 21 columns]"
      ]
     },
     "execution_count": 72,
     "metadata": {},
     "output_type": "execute_result"
    }
   ],
   "source": [
    "df.head()"
   ]
  },
  {
   "cell_type": "markdown",
   "id": "548aa1dd-909d-4390-b40d-8bd0e352261b",
   "metadata": {},
   "source": [
    "The given dataset belongs to supervised learning as it has labeled data means both input and output is present in the dataset\n",
    "so we will be using supervised learning algorithms - classification algorithm as the target variable churn has 2 class Yes and No"
   ]
  },
  {
   "cell_type": "markdown",
   "id": "685efff7-a2fd-4c00-9daf-6f3e98d4ab39",
   "metadata": {},
   "source": [
    "Applying Exploratory Data Analysis (EDA) "
   ]
  },
  {
   "cell_type": "code",
   "execution_count": 73,
   "id": "f43be357-6971-447d-ad52-ea67db360ef9",
   "metadata": {},
   "outputs": [
    {
     "data": {
      "text/plain": [
       "(7043, 21)"
      ]
     },
     "execution_count": 73,
     "metadata": {},
     "output_type": "execute_result"
    }
   ],
   "source": [
    "df.shape"
   ]
  },
  {
   "cell_type": "code",
   "execution_count": 74,
   "id": "298f79c0-5c9d-4f9f-a8ed-2d56d8d96131",
   "metadata": {},
   "outputs": [],
   "source": [
    "#drop customerID column\n",
    "df.drop('customerID',axis=1,inplace=True)"
   ]
  },
  {
   "cell_type": "code",
   "execution_count": 75,
   "id": "dc436032-c9e8-4e82-b035-686448589676",
   "metadata": {},
   "outputs": [
    {
     "data": {
      "text/plain": [
       "Index(['gender', 'SeniorCitizen', 'Partner', 'Dependents', 'tenure',\n",
       "       'PhoneService', 'MultipleLines', 'InternetService', 'OnlineSecurity',\n",
       "       'OnlineBackup', 'DeviceProtection', 'TechSupport', 'StreamingTV',\n",
       "       'StreamingMovies', 'Contract', 'PaperlessBilling', 'PaymentMethod',\n",
       "       'MonthlyCharges', 'TotalCharges', 'Churn'],\n",
       "      dtype='object')"
      ]
     },
     "execution_count": 75,
     "metadata": {},
     "output_type": "execute_result"
    }
   ],
   "source": [
    "df.columns"
   ]
  },
  {
   "cell_type": "code",
   "execution_count": 76,
   "id": "4b8ee084-d2c9-42d3-9f50-1813673b03ee",
   "metadata": {},
   "outputs": [
    {
     "data": {
      "text/plain": [
       "gender              0\n",
       "SeniorCitizen       0\n",
       "Partner             0\n",
       "Dependents          0\n",
       "tenure              0\n",
       "PhoneService        0\n",
       "MultipleLines       0\n",
       "InternetService     0\n",
       "OnlineSecurity      0\n",
       "OnlineBackup        0\n",
       "DeviceProtection    0\n",
       "TechSupport         0\n",
       "StreamingTV         0\n",
       "StreamingMovies     0\n",
       "Contract            0\n",
       "PaperlessBilling    0\n",
       "PaymentMethod       0\n",
       "MonthlyCharges      0\n",
       "TotalCharges        0\n",
       "Churn               0\n",
       "dtype: int64"
      ]
     },
     "execution_count": 76,
     "metadata": {},
     "output_type": "execute_result"
    }
   ],
   "source": [
    "#to check null values\n",
    "df.isnull().sum()"
   ]
  },
  {
   "cell_type": "code",
   "execution_count": 77,
   "id": "c17c8fc3-6026-4b11-ae23-de701bc7577d",
   "metadata": {},
   "outputs": [
    {
     "data": {
      "text/plain": [
       "22"
      ]
     },
     "execution_count": 77,
     "metadata": {},
     "output_type": "execute_result"
    }
   ],
   "source": [
    "#to check duplicates\n",
    "df.duplicated().sum()"
   ]
  },
  {
   "cell_type": "code",
   "execution_count": 78,
   "id": "35dbbaae-eb56-4ab1-aaca-ab5ab79f59d4",
   "metadata": {},
   "outputs": [],
   "source": [
    "#to drop duplicate rows\n",
    "df.drop_duplicates(inplace=True)"
   ]
  },
  {
   "cell_type": "code",
   "execution_count": 79,
   "id": "0b62d4b8-08c1-41c4-8fc4-441634bd53d7",
   "metadata": {},
   "outputs": [
    {
     "data": {
      "text/plain": [
       "0"
      ]
     },
     "execution_count": 79,
     "metadata": {},
     "output_type": "execute_result"
    }
   ],
   "source": [
    "df.duplicated().sum()"
   ]
  },
  {
   "cell_type": "code",
   "execution_count": 80,
   "id": "04e632fb-2821-4003-92ad-f816ae8bfb71",
   "metadata": {},
   "outputs": [
    {
     "name": "stdout",
     "output_type": "stream",
     "text": [
      "gender ['Female' 'Male']\n",
      "\n",
      "SeniorCitizen [0 1]\n",
      "\n",
      "Partner ['Yes' 'No']\n",
      "\n",
      "Dependents ['No' 'Yes']\n",
      "\n",
      "tenure [ 1 34  2 45  8 22 10 28 62 13 16 58 49 25 69 52 71 21 12 30 47 72 17 27\n",
      "  5 46 11 70 63 43 15 60 18 66  9  3 31 50 64 56  7 42 35 48 29 65 38 68\n",
      " 32 55 37 36 41  6  4 33 67 23 57 61 14 20 53 40 59 24 44 19 54 51 26  0\n",
      " 39]\n",
      "\n",
      "PhoneService ['No' 'Yes']\n",
      "\n",
      "MultipleLines ['No phone service' 'No' 'Yes']\n",
      "\n",
      "InternetService ['DSL' 'Fiber optic' 'No']\n",
      "\n",
      "OnlineSecurity ['No' 'Yes' 'No internet service']\n",
      "\n",
      "OnlineBackup ['Yes' 'No' 'No internet service']\n",
      "\n",
      "DeviceProtection ['No' 'Yes' 'No internet service']\n",
      "\n",
      "TechSupport ['No' 'Yes' 'No internet service']\n",
      "\n",
      "StreamingTV ['No' 'Yes' 'No internet service']\n",
      "\n",
      "StreamingMovies ['No' 'Yes' 'No internet service']\n",
      "\n",
      "Contract ['Month-to-month' 'One year' 'Two year']\n",
      "\n",
      "PaperlessBilling ['Yes' 'No']\n",
      "\n",
      "PaymentMethod ['Electronic check' 'Mailed check' 'Bank transfer (automatic)'\n",
      " 'Credit card (automatic)']\n",
      "\n",
      "MonthlyCharges [29.85 56.95 53.85 ... 63.1  44.2  78.7 ]\n",
      "\n",
      "TotalCharges ['29.85' '1889.5' '108.15' ... '346.45' '306.6' '6844.5']\n",
      "\n",
      "Churn ['No' 'Yes']\n",
      "\n"
     ]
    }
   ],
   "source": [
    "#to check unique value in each columns\n",
    "def unique_counts():\n",
    "    for i in df.columns:\n",
    "        print(i,df[i].unique())\n",
    "        print()\n",
    "\n",
    "unique_counts()"
   ]
  },
  {
   "cell_type": "code",
   "execution_count": 81,
   "id": "763078ad-9d98-43ff-a43f-0c5c2cf707bd",
   "metadata": {},
   "outputs": [
    {
     "data": {
      "text/plain": [
       "gender               object\n",
       "SeniorCitizen         int64\n",
       "Partner              object\n",
       "Dependents           object\n",
       "tenure                int64\n",
       "PhoneService         object\n",
       "MultipleLines        object\n",
       "InternetService      object\n",
       "OnlineSecurity       object\n",
       "OnlineBackup         object\n",
       "DeviceProtection     object\n",
       "TechSupport          object\n",
       "StreamingTV          object\n",
       "StreamingMovies      object\n",
       "Contract             object\n",
       "PaperlessBilling     object\n",
       "PaymentMethod        object\n",
       "MonthlyCharges      float64\n",
       "TotalCharges         object\n",
       "Churn                object\n",
       "dtype: object"
      ]
     },
     "execution_count": 81,
     "metadata": {},
     "output_type": "execute_result"
    }
   ],
   "source": [
    "#to check datatype\n",
    "df.dtypes"
   ]
  },
  {
   "cell_type": "code",
   "execution_count": 82,
   "id": "4924e755-8549-4408-b90f-6845b3bb553c",
   "metadata": {},
   "outputs": [
    {
     "data": {
      "text/plain": [
       "TotalCharges\n",
       "          11\n",
       "19.75      9\n",
       "20.2       8\n",
       "19.9       7\n",
       "19.65      7\n",
       "          ..\n",
       "6849.4     1\n",
       "692.35     1\n",
       "130.15     1\n",
       "3211.9     1\n",
       "6844.5     1\n",
       "Name: count, Length: 6531, dtype: int64"
      ]
     },
     "execution_count": 82,
     "metadata": {},
     "output_type": "execute_result"
    }
   ],
   "source": [
    "df[\"TotalCharges\"].value_counts()"
   ]
  },
  {
   "cell_type": "code",
   "execution_count": 83,
   "id": "39a9ecbf-ca0e-4444-8f85-52aaec838d1d",
   "metadata": {},
   "outputs": [
    {
     "data": {
      "text/html": [
       "<div>\n",
       "<style scoped>\n",
       "    .dataframe tbody tr th:only-of-type {\n",
       "        vertical-align: middle;\n",
       "    }\n",
       "\n",
       "    .dataframe tbody tr th {\n",
       "        vertical-align: top;\n",
       "    }\n",
       "\n",
       "    .dataframe thead th {\n",
       "        text-align: right;\n",
       "    }\n",
       "</style>\n",
       "<table border=\"1\" class=\"dataframe\">\n",
       "  <thead>\n",
       "    <tr style=\"text-align: right;\">\n",
       "      <th></th>\n",
       "      <th>gender</th>\n",
       "      <th>SeniorCitizen</th>\n",
       "      <th>Partner</th>\n",
       "      <th>Dependents</th>\n",
       "      <th>tenure</th>\n",
       "      <th>PhoneService</th>\n",
       "      <th>MultipleLines</th>\n",
       "      <th>InternetService</th>\n",
       "      <th>OnlineSecurity</th>\n",
       "      <th>OnlineBackup</th>\n",
       "      <th>DeviceProtection</th>\n",
       "      <th>TechSupport</th>\n",
       "      <th>StreamingTV</th>\n",
       "      <th>StreamingMovies</th>\n",
       "      <th>Contract</th>\n",
       "      <th>PaperlessBilling</th>\n",
       "      <th>PaymentMethod</th>\n",
       "      <th>MonthlyCharges</th>\n",
       "      <th>TotalCharges</th>\n",
       "      <th>Churn</th>\n",
       "    </tr>\n",
       "  </thead>\n",
       "  <tbody>\n",
       "    <tr>\n",
       "      <th>488</th>\n",
       "      <td>Female</td>\n",
       "      <td>0</td>\n",
       "      <td>Yes</td>\n",
       "      <td>Yes</td>\n",
       "      <td>0</td>\n",
       "      <td>No</td>\n",
       "      <td>No phone service</td>\n",
       "      <td>DSL</td>\n",
       "      <td>Yes</td>\n",
       "      <td>No</td>\n",
       "      <td>Yes</td>\n",
       "      <td>Yes</td>\n",
       "      <td>Yes</td>\n",
       "      <td>No</td>\n",
       "      <td>Two year</td>\n",
       "      <td>Yes</td>\n",
       "      <td>Bank transfer (automatic)</td>\n",
       "      <td>52.55</td>\n",
       "      <td></td>\n",
       "      <td>No</td>\n",
       "    </tr>\n",
       "    <tr>\n",
       "      <th>753</th>\n",
       "      <td>Male</td>\n",
       "      <td>0</td>\n",
       "      <td>No</td>\n",
       "      <td>Yes</td>\n",
       "      <td>0</td>\n",
       "      <td>Yes</td>\n",
       "      <td>No</td>\n",
       "      <td>No</td>\n",
       "      <td>No internet service</td>\n",
       "      <td>No internet service</td>\n",
       "      <td>No internet service</td>\n",
       "      <td>No internet service</td>\n",
       "      <td>No internet service</td>\n",
       "      <td>No internet service</td>\n",
       "      <td>Two year</td>\n",
       "      <td>No</td>\n",
       "      <td>Mailed check</td>\n",
       "      <td>20.25</td>\n",
       "      <td></td>\n",
       "      <td>No</td>\n",
       "    </tr>\n",
       "    <tr>\n",
       "      <th>936</th>\n",
       "      <td>Female</td>\n",
       "      <td>0</td>\n",
       "      <td>Yes</td>\n",
       "      <td>Yes</td>\n",
       "      <td>0</td>\n",
       "      <td>Yes</td>\n",
       "      <td>No</td>\n",
       "      <td>DSL</td>\n",
       "      <td>Yes</td>\n",
       "      <td>Yes</td>\n",
       "      <td>Yes</td>\n",
       "      <td>No</td>\n",
       "      <td>Yes</td>\n",
       "      <td>Yes</td>\n",
       "      <td>Two year</td>\n",
       "      <td>No</td>\n",
       "      <td>Mailed check</td>\n",
       "      <td>80.85</td>\n",
       "      <td></td>\n",
       "      <td>No</td>\n",
       "    </tr>\n",
       "    <tr>\n",
       "      <th>1082</th>\n",
       "      <td>Male</td>\n",
       "      <td>0</td>\n",
       "      <td>Yes</td>\n",
       "      <td>Yes</td>\n",
       "      <td>0</td>\n",
       "      <td>Yes</td>\n",
       "      <td>Yes</td>\n",
       "      <td>No</td>\n",
       "      <td>No internet service</td>\n",
       "      <td>No internet service</td>\n",
       "      <td>No internet service</td>\n",
       "      <td>No internet service</td>\n",
       "      <td>No internet service</td>\n",
       "      <td>No internet service</td>\n",
       "      <td>Two year</td>\n",
       "      <td>No</td>\n",
       "      <td>Mailed check</td>\n",
       "      <td>25.75</td>\n",
       "      <td></td>\n",
       "      <td>No</td>\n",
       "    </tr>\n",
       "    <tr>\n",
       "      <th>1340</th>\n",
       "      <td>Female</td>\n",
       "      <td>0</td>\n",
       "      <td>Yes</td>\n",
       "      <td>Yes</td>\n",
       "      <td>0</td>\n",
       "      <td>No</td>\n",
       "      <td>No phone service</td>\n",
       "      <td>DSL</td>\n",
       "      <td>Yes</td>\n",
       "      <td>Yes</td>\n",
       "      <td>Yes</td>\n",
       "      <td>Yes</td>\n",
       "      <td>Yes</td>\n",
       "      <td>No</td>\n",
       "      <td>Two year</td>\n",
       "      <td>No</td>\n",
       "      <td>Credit card (automatic)</td>\n",
       "      <td>56.05</td>\n",
       "      <td></td>\n",
       "      <td>No</td>\n",
       "    </tr>\n",
       "    <tr>\n",
       "      <th>3331</th>\n",
       "      <td>Male</td>\n",
       "      <td>0</td>\n",
       "      <td>Yes</td>\n",
       "      <td>Yes</td>\n",
       "      <td>0</td>\n",
       "      <td>Yes</td>\n",
       "      <td>No</td>\n",
       "      <td>No</td>\n",
       "      <td>No internet service</td>\n",
       "      <td>No internet service</td>\n",
       "      <td>No internet service</td>\n",
       "      <td>No internet service</td>\n",
       "      <td>No internet service</td>\n",
       "      <td>No internet service</td>\n",
       "      <td>Two year</td>\n",
       "      <td>No</td>\n",
       "      <td>Mailed check</td>\n",
       "      <td>19.85</td>\n",
       "      <td></td>\n",
       "      <td>No</td>\n",
       "    </tr>\n",
       "    <tr>\n",
       "      <th>3826</th>\n",
       "      <td>Male</td>\n",
       "      <td>0</td>\n",
       "      <td>Yes</td>\n",
       "      <td>Yes</td>\n",
       "      <td>0</td>\n",
       "      <td>Yes</td>\n",
       "      <td>Yes</td>\n",
       "      <td>No</td>\n",
       "      <td>No internet service</td>\n",
       "      <td>No internet service</td>\n",
       "      <td>No internet service</td>\n",
       "      <td>No internet service</td>\n",
       "      <td>No internet service</td>\n",
       "      <td>No internet service</td>\n",
       "      <td>Two year</td>\n",
       "      <td>No</td>\n",
       "      <td>Mailed check</td>\n",
       "      <td>25.35</td>\n",
       "      <td></td>\n",
       "      <td>No</td>\n",
       "    </tr>\n",
       "    <tr>\n",
       "      <th>4380</th>\n",
       "      <td>Female</td>\n",
       "      <td>0</td>\n",
       "      <td>Yes</td>\n",
       "      <td>Yes</td>\n",
       "      <td>0</td>\n",
       "      <td>Yes</td>\n",
       "      <td>No</td>\n",
       "      <td>No</td>\n",
       "      <td>No internet service</td>\n",
       "      <td>No internet service</td>\n",
       "      <td>No internet service</td>\n",
       "      <td>No internet service</td>\n",
       "      <td>No internet service</td>\n",
       "      <td>No internet service</td>\n",
       "      <td>Two year</td>\n",
       "      <td>No</td>\n",
       "      <td>Mailed check</td>\n",
       "      <td>20.00</td>\n",
       "      <td></td>\n",
       "      <td>No</td>\n",
       "    </tr>\n",
       "    <tr>\n",
       "      <th>5218</th>\n",
       "      <td>Male</td>\n",
       "      <td>0</td>\n",
       "      <td>Yes</td>\n",
       "      <td>Yes</td>\n",
       "      <td>0</td>\n",
       "      <td>Yes</td>\n",
       "      <td>No</td>\n",
       "      <td>No</td>\n",
       "      <td>No internet service</td>\n",
       "      <td>No internet service</td>\n",
       "      <td>No internet service</td>\n",
       "      <td>No internet service</td>\n",
       "      <td>No internet service</td>\n",
       "      <td>No internet service</td>\n",
       "      <td>One year</td>\n",
       "      <td>Yes</td>\n",
       "      <td>Mailed check</td>\n",
       "      <td>19.70</td>\n",
       "      <td></td>\n",
       "      <td>No</td>\n",
       "    </tr>\n",
       "    <tr>\n",
       "      <th>6670</th>\n",
       "      <td>Female</td>\n",
       "      <td>0</td>\n",
       "      <td>Yes</td>\n",
       "      <td>Yes</td>\n",
       "      <td>0</td>\n",
       "      <td>Yes</td>\n",
       "      <td>Yes</td>\n",
       "      <td>DSL</td>\n",
       "      <td>No</td>\n",
       "      <td>Yes</td>\n",
       "      <td>Yes</td>\n",
       "      <td>Yes</td>\n",
       "      <td>Yes</td>\n",
       "      <td>No</td>\n",
       "      <td>Two year</td>\n",
       "      <td>No</td>\n",
       "      <td>Mailed check</td>\n",
       "      <td>73.35</td>\n",
       "      <td></td>\n",
       "      <td>No</td>\n",
       "    </tr>\n",
       "    <tr>\n",
       "      <th>6754</th>\n",
       "      <td>Male</td>\n",
       "      <td>0</td>\n",
       "      <td>No</td>\n",
       "      <td>Yes</td>\n",
       "      <td>0</td>\n",
       "      <td>Yes</td>\n",
       "      <td>Yes</td>\n",
       "      <td>DSL</td>\n",
       "      <td>Yes</td>\n",
       "      <td>Yes</td>\n",
       "      <td>No</td>\n",
       "      <td>Yes</td>\n",
       "      <td>No</td>\n",
       "      <td>No</td>\n",
       "      <td>Two year</td>\n",
       "      <td>Yes</td>\n",
       "      <td>Bank transfer (automatic)</td>\n",
       "      <td>61.90</td>\n",
       "      <td></td>\n",
       "      <td>No</td>\n",
       "    </tr>\n",
       "  </tbody>\n",
       "</table>\n",
       "</div>"
      ],
      "text/plain": [
       "      gender  SeniorCitizen Partner Dependents  tenure PhoneService  \\\n",
       "488   Female              0     Yes        Yes       0           No   \n",
       "753     Male              0      No        Yes       0          Yes   \n",
       "936   Female              0     Yes        Yes       0          Yes   \n",
       "1082    Male              0     Yes        Yes       0          Yes   \n",
       "1340  Female              0     Yes        Yes       0           No   \n",
       "3331    Male              0     Yes        Yes       0          Yes   \n",
       "3826    Male              0     Yes        Yes       0          Yes   \n",
       "4380  Female              0     Yes        Yes       0          Yes   \n",
       "5218    Male              0     Yes        Yes       0          Yes   \n",
       "6670  Female              0     Yes        Yes       0          Yes   \n",
       "6754    Male              0      No        Yes       0          Yes   \n",
       "\n",
       "         MultipleLines InternetService       OnlineSecurity  \\\n",
       "488   No phone service             DSL                  Yes   \n",
       "753                 No              No  No internet service   \n",
       "936                 No             DSL                  Yes   \n",
       "1082               Yes              No  No internet service   \n",
       "1340  No phone service             DSL                  Yes   \n",
       "3331                No              No  No internet service   \n",
       "3826               Yes              No  No internet service   \n",
       "4380                No              No  No internet service   \n",
       "5218                No              No  No internet service   \n",
       "6670               Yes             DSL                   No   \n",
       "6754               Yes             DSL                  Yes   \n",
       "\n",
       "             OnlineBackup     DeviceProtection          TechSupport  \\\n",
       "488                    No                  Yes                  Yes   \n",
       "753   No internet service  No internet service  No internet service   \n",
       "936                   Yes                  Yes                   No   \n",
       "1082  No internet service  No internet service  No internet service   \n",
       "1340                  Yes                  Yes                  Yes   \n",
       "3331  No internet service  No internet service  No internet service   \n",
       "3826  No internet service  No internet service  No internet service   \n",
       "4380  No internet service  No internet service  No internet service   \n",
       "5218  No internet service  No internet service  No internet service   \n",
       "6670                  Yes                  Yes                  Yes   \n",
       "6754                  Yes                   No                  Yes   \n",
       "\n",
       "              StreamingTV      StreamingMovies  Contract PaperlessBilling  \\\n",
       "488                   Yes                   No  Two year              Yes   \n",
       "753   No internet service  No internet service  Two year               No   \n",
       "936                   Yes                  Yes  Two year               No   \n",
       "1082  No internet service  No internet service  Two year               No   \n",
       "1340                  Yes                   No  Two year               No   \n",
       "3331  No internet service  No internet service  Two year               No   \n",
       "3826  No internet service  No internet service  Two year               No   \n",
       "4380  No internet service  No internet service  Two year               No   \n",
       "5218  No internet service  No internet service  One year              Yes   \n",
       "6670                  Yes                   No  Two year               No   \n",
       "6754                   No                   No  Two year              Yes   \n",
       "\n",
       "                  PaymentMethod  MonthlyCharges TotalCharges Churn  \n",
       "488   Bank transfer (automatic)           52.55                 No  \n",
       "753                Mailed check           20.25                 No  \n",
       "936                Mailed check           80.85                 No  \n",
       "1082               Mailed check           25.75                 No  \n",
       "1340    Credit card (automatic)           56.05                 No  \n",
       "3331               Mailed check           19.85                 No  \n",
       "3826               Mailed check           25.35                 No  \n",
       "4380               Mailed check           20.00                 No  \n",
       "5218               Mailed check           19.70                 No  \n",
       "6670               Mailed check           73.35                 No  \n",
       "6754  Bank transfer (automatic)           61.90                 No  "
      ]
     },
     "execution_count": 83,
     "metadata": {},
     "output_type": "execute_result"
    }
   ],
   "source": [
    "df[df[\"TotalCharges\"]==\" \"]"
   ]
  },
  {
   "cell_type": "code",
   "execution_count": 84,
   "id": "c89292fc-06cf-4ae5-91c5-76aa659d9632",
   "metadata": {},
   "outputs": [],
   "source": [
    "#to fill TotalCharges which are unknown with null\n",
    "df['TotalCharges'].replace(\" \",np.nan,inplace=True)"
   ]
  },
  {
   "cell_type": "code",
   "execution_count": 85,
   "id": "9fa7f989-1d34-4eee-ab14-25b96a3d6a05",
   "metadata": {},
   "outputs": [],
   "source": [
    "#to change the datatyoe of TotalCharges to float\n",
    "df['TotalCharges']=df['TotalCharges'].astype(float)"
   ]
  },
  {
   "cell_type": "code",
   "execution_count": 86,
   "id": "d425d546-a474-4bb4-8a35-7d43a8acacfe",
   "metadata": {},
   "outputs": [
    {
     "data": {
      "text/plain": [
       "gender               object\n",
       "SeniorCitizen         int64\n",
       "Partner              object\n",
       "Dependents           object\n",
       "tenure                int64\n",
       "PhoneService         object\n",
       "MultipleLines        object\n",
       "InternetService      object\n",
       "OnlineSecurity       object\n",
       "OnlineBackup         object\n",
       "DeviceProtection     object\n",
       "TechSupport          object\n",
       "StreamingTV          object\n",
       "StreamingMovies      object\n",
       "Contract             object\n",
       "PaperlessBilling     object\n",
       "PaymentMethod        object\n",
       "MonthlyCharges      float64\n",
       "TotalCharges        float64\n",
       "Churn                object\n",
       "dtype: object"
      ]
     },
     "execution_count": 86,
     "metadata": {},
     "output_type": "execute_result"
    }
   ],
   "source": [
    "df.dtypes"
   ]
  },
  {
   "cell_type": "code",
   "execution_count": 87,
   "id": "0fcfb5a5-65ca-4905-aaf3-57fc96960750",
   "metadata": {},
   "outputs": [
    {
     "data": {
      "text/plain": [
       "gender               0\n",
       "SeniorCitizen        0\n",
       "Partner              0\n",
       "Dependents           0\n",
       "tenure               0\n",
       "PhoneService         0\n",
       "MultipleLines        0\n",
       "InternetService      0\n",
       "OnlineSecurity       0\n",
       "OnlineBackup         0\n",
       "DeviceProtection     0\n",
       "TechSupport          0\n",
       "StreamingTV          0\n",
       "StreamingMovies      0\n",
       "Contract             0\n",
       "PaperlessBilling     0\n",
       "PaymentMethod        0\n",
       "MonthlyCharges       0\n",
       "TotalCharges        11\n",
       "Churn                0\n",
       "dtype: int64"
      ]
     },
     "execution_count": 87,
     "metadata": {},
     "output_type": "execute_result"
    }
   ],
   "source": [
    "df.isnull().sum()"
   ]
  },
  {
   "cell_type": "code",
   "execution_count": 88,
   "id": "479e4554-2eca-4393-88b5-86ea63a7385d",
   "metadata": {},
   "outputs": [
    {
     "name": "stdout",
     "output_type": "stream",
     "text": [
      "mean 1403.875\n"
     ]
    },
    {
     "data": {
      "text/plain": [
       "gender              0\n",
       "SeniorCitizen       0\n",
       "Partner             0\n",
       "Dependents          0\n",
       "tenure              0\n",
       "PhoneService        0\n",
       "MultipleLines       0\n",
       "InternetService     0\n",
       "OnlineSecurity      0\n",
       "OnlineBackup        0\n",
       "DeviceProtection    0\n",
       "TechSupport         0\n",
       "StreamingTV         0\n",
       "StreamingMovies     0\n",
       "Contract            0\n",
       "PaperlessBilling    0\n",
       "PaymentMethod       0\n",
       "MonthlyCharges      0\n",
       "TotalCharges        0\n",
       "Churn               0\n",
       "dtype: int64"
      ]
     },
     "execution_count": 88,
     "metadata": {},
     "output_type": "execute_result"
    }
   ],
   "source": [
    "#to fill TotalCharges with median\n",
    "m=df['TotalCharges'].median()\n",
    "print('mean',m)\n",
    "df['TotalCharges'].fillna(m,inplace=True)\n",
    "df.isnull().sum()"
   ]
  },
  {
   "cell_type": "code",
   "execution_count": 89,
   "id": "0882d7b2-34aa-4a7c-8d58-586eb0262585",
   "metadata": {},
   "outputs": [
    {
     "data": {
      "text/plain": [
       "<function matplotlib.pyplot.show(close=None, block=None)>"
      ]
     },
     "execution_count": 89,
     "metadata": {},
     "output_type": "execute_result"
    },
    {
     "data": {
      "image/png": "[encoded data removed]",
      "text/plain": [
       "<Figure size 640x480 with 1 Axes>"
      ]
     },
     "metadata": {},
     "output_type": "display_data"
    }
   ],
   "source": [
    "#to check outlier\n",
    "sb.boxplot(data=df,x='tenure')\n",
    "plt.show"
   ]
  },
  {
   "cell_type": "code",
   "execution_count": 90,
   "id": "243154f9-0c0f-477b-93ce-360864901a80",
   "metadata": {},
   "outputs": [
    {
     "data": {
      "image/png": "[encoded data removed]",
      "text/plain": [
       "<Figure size 640x480 with 1 Axes>"
      ]
     },
     "metadata": {},
     "output_type": "display_data"
    }
   ],
   "source": [
    "sb.boxplot(data=df,x='MonthlyCharges')\n",
    "plt.show()"
   ]
  },
  {
   "cell_type": "code",
   "execution_count": 91,
   "id": "455a39ff-6367-40af-83c7-175815fc90db",
   "metadata": {},
   "outputs": [
    {
     "data": {
      "image/png": "[encoded data removed]",
      "text/plain": [
       "<Figure size 640x480 with 1 Axes>"
      ]
     },
     "metadata": {},
     "output_type": "display_data"
    }
   ],
   "source": [
    "sb.boxplot(data=df,x='TotalCharges')\n",
    "plt.show()"
   ]
  },
  {
   "cell_type": "code",
   "execution_count": 92,
   "id": "e512c55e-7dd0-40c3-8bf7-81d365fd24c1",
   "metadata": {},
   "outputs": [
    {
     "data": {
      "text/plain": [
       "Churn\n",
       "No     5164\n",
       "Yes    1857\n",
       "Name: count, dtype: int64"
      ]
     },
     "execution_count": 92,
     "metadata": {},
     "output_type": "execute_result"
    }
   ],
   "source": [
    "df['Churn'].value_counts()"
   ]
  },
  {
   "cell_type": "code",
   "execution_count": 93,
   "id": "2e785181-74a3-4d09-be1c-17debf549767",
   "metadata": {},
   "outputs": [],
   "source": [
    "\n",
    "from imblearn.over_sampling import RandomOverSampler"
   ]
  },
  {
   "cell_type": "code",
   "execution_count": 94,
   "id": "b69c19bf-e8b6-494d-989c-edf067ea3c3c",
   "metadata": {
    "scrolled": true
   },
   "outputs": [
    {
     "data": {
      "image/png": "[encoded data removed]",
      "text/plain": [
       "<Figure size 640x480 with 1 Axes>"
      ]
     },
     "metadata": {},
     "output_type": "display_data"
    }
   ],
   "source": [
    "sb.countplot(data=df,x='Churn',hue='gender')\n",
    "plt.show()"
   ]
  },
  {
   "cell_type": "code",
   "execution_count": 95,
   "id": "e0aa5cf6-5b84-44c8-9008-58b274058bca",
   "metadata": {},
   "outputs": [
    {
     "data": {
      "text/plain": [
       "<Axes: xlabel='PaymentMethod', ylabel='count'>"
      ]
     },
     "execution_count": 95,
     "metadata": {},
     "output_type": "execute_result"
    },
    {
     "data": {
      "image/png": "[encoded data removed]",
      "text/plain": [
       "<Figure size 1000x500 with 1 Axes>"
      ]
     },
     "metadata": {},
     "output_type": "display_data"
    }
   ],
   "source": [
    "plt.figure(figsize=(10, 5))\n",
    "sb.countplot(data=df,x='PaymentMethod',hue='Churn')"
   ]
  },
  {
   "cell_type": "code",
   "execution_count": 96,
   "id": "89286bf9-65f6-4567-a9b2-6cb66a05bf43",
   "metadata": {},
   "outputs": [
    {
     "data": {
      "image/png": "[encoded data removed]",
      "text/plain": [
       "<Figure size 640x480 with 1 Axes>"
      ]
     },
     "metadata": {},
     "output_type": "display_data"
    }
   ],
   "source": [
    "sb.countplot(data=df,x='Contract',hue='Churn')\n",
    "plt.show()"
   ]
  },
  {
   "cell_type": "code",
   "execution_count": 97,
   "id": "bc5c3d06",
   "metadata": {},
   "outputs": [],
   "source": [
    "#separate numeric type column and object type column from original dataframe df\n",
    "#and hold in new dataframe df_num and df_cat respectively\n",
    "\n",
    "df_num=df.select_dtypes(['int64','float64','int32'])\n",
    "df_cat=df.select_dtypes(object)"
   ]
  },
  {
   "cell_type": "code",
   "execution_count": 98,
   "id": "febf0157",
   "metadata": {},
   "outputs": [],
   "source": [
    "#applyin labelencoder to convert the categorial type data to numeric type which the machine can understand\n",
    "\n",
    "#import the LabelEncoder class\n",
    "from sklearn.preprocessing import LabelEncoder\n",
    "\n",
    "#apply labelencoder for df_cat dataframe\n",
    "for col in df_cat:\n",
    "    #create object of LabelEncoder class\n",
    "    le=LabelEncoder()\n",
    "    df_cat[col]=le.fit_transform(df_cat[col])"
   ]
  },
  {
   "cell_type": "code",
   "execution_count": 99,
   "id": "bf657af2-75e7-493c-9e51-1c7782b0d0c5",
   "metadata": {},
   "outputs": [
    {
     "data": {
      "text/plain": [
       "gender              int32\n",
       "Partner             int32\n",
       "Dependents          int32\n",
       "PhoneService        int32\n",
       "MultipleLines       int32\n",
       "InternetService     int32\n",
       "OnlineSecurity      int32\n",
       "OnlineBackup        int32\n",
       "DeviceProtection    int32\n",
       "TechSupport         int32\n",
       "StreamingTV         int32\n",
       "StreamingMovies     int32\n",
       "Contract            int32\n",
       "PaperlessBilling    int32\n",
       "PaymentMethod       int32\n",
       "Churn               int32\n",
       "dtype: object"
      ]
     },
     "execution_count": 99,
     "metadata": {},
     "output_type": "execute_result"
    }
   ],
   "source": [
    "df_cat.dtypes"
   ]
  },
  {
   "cell_type": "code",
   "execution_count": 100,
   "id": "8b53bd2c-0509-4cca-9563-f456ebead2d8",
   "metadata": {},
   "outputs": [
    {
     "data": {
      "text/html": [
       "<div>\n",
       "<style scoped>\n",
       "    .dataframe tbody tr th:only-of-type {\n",
       "        vertical-align: middle;\n",
       "    }\n",
       "\n",
       "    .dataframe tbody tr th {\n",
       "        vertical-align: top;\n",
       "    }\n",
       "\n",
       "    .dataframe thead th {\n",
       "        text-align: right;\n",
       "    }\n",
       "</style>\n",
       "<table border=\"1\" class=\"dataframe\">\n",
       "  <thead>\n",
       "    <tr style=\"text-align: right;\">\n",
       "      <th></th>\n",
       "      <th>gender</th>\n",
       "      <th>Partner</th>\n",
       "      <th>Dependents</th>\n",
       "      <th>PhoneService</th>\n",
       "      <th>MultipleLines</th>\n",
       "      <th>InternetService</th>\n",
       "      <th>OnlineSecurity</th>\n",
       "      <th>OnlineBackup</th>\n",
       "      <th>DeviceProtection</th>\n",
       "      <th>TechSupport</th>\n",
       "      <th>StreamingTV</th>\n",
       "      <th>StreamingMovies</th>\n",
       "      <th>Contract</th>\n",
       "      <th>PaperlessBilling</th>\n",
       "      <th>PaymentMethod</th>\n",
       "      <th>Churn</th>\n",
       "      <th>SeniorCitizen</th>\n",
       "      <th>tenure</th>\n",
       "      <th>MonthlyCharges</th>\n",
       "      <th>TotalCharges</th>\n",
       "    </tr>\n",
       "  </thead>\n",
       "  <tbody>\n",
       "    <tr>\n",
       "      <th>0</th>\n",
       "      <td>0</td>\n",
       "      <td>1</td>\n",
       "      <td>0</td>\n",
       "      <td>0</td>\n",
       "      <td>1</td>\n",
       "      <td>0</td>\n",
       "      <td>0</td>\n",
       "      <td>2</td>\n",
       "      <td>0</td>\n",
       "      <td>0</td>\n",
       "      <td>0</td>\n",
       "      <td>0</td>\n",
       "      <td>0</td>\n",
       "      <td>1</td>\n",
       "      <td>2</td>\n",
       "      <td>0</td>\n",
       "      <td>0</td>\n",
       "      <td>1</td>\n",
       "      <td>29.85</td>\n",
       "      <td>29.85</td>\n",
       "    </tr>\n",
       "    <tr>\n",
       "      <th>1</th>\n",
       "      <td>1</td>\n",
       "      <td>0</td>\n",
       "      <td>0</td>\n",
       "      <td>1</td>\n",
       "      <td>0</td>\n",
       "      <td>0</td>\n",
       "      <td>2</td>\n",
       "      <td>0</td>\n",
       "      <td>2</td>\n",
       "      <td>0</td>\n",
       "      <td>0</td>\n",
       "      <td>0</td>\n",
       "      <td>1</td>\n",
       "      <td>0</td>\n",
       "      <td>3</td>\n",
       "      <td>0</td>\n",
       "      <td>0</td>\n",
       "      <td>34</td>\n",
       "      <td>56.95</td>\n",
       "      <td>1889.50</td>\n",
       "    </tr>\n",
       "    <tr>\n",
       "      <th>2</th>\n",
       "      <td>1</td>\n",
       "      <td>0</td>\n",
       "      <td>0</td>\n",
       "      <td>1</td>\n",
       "      <td>0</td>\n",
       "      <td>0</td>\n",
       "      <td>2</td>\n",
       "      <td>2</td>\n",
       "      <td>0</td>\n",
       "      <td>0</td>\n",
       "      <td>0</td>\n",
       "      <td>0</td>\n",
       "      <td>0</td>\n",
       "      <td>1</td>\n",
       "      <td>3</td>\n",
       "      <td>1</td>\n",
       "      <td>0</td>\n",
       "      <td>2</td>\n",
       "      <td>53.85</td>\n",
       "      <td>108.15</td>\n",
       "    </tr>\n",
       "    <tr>\n",
       "      <th>3</th>\n",
       "      <td>1</td>\n",
       "      <td>0</td>\n",
       "      <td>0</td>\n",
       "      <td>0</td>\n",
       "      <td>1</td>\n",
       "      <td>0</td>\n",
       "      <td>2</td>\n",
       "      <td>0</td>\n",
       "      <td>2</td>\n",
       "      <td>2</td>\n",
       "      <td>0</td>\n",
       "      <td>0</td>\n",
       "      <td>1</td>\n",
       "      <td>0</td>\n",
       "      <td>0</td>\n",
       "      <td>0</td>\n",
       "      <td>0</td>\n",
       "      <td>45</td>\n",
       "      <td>42.30</td>\n",
       "      <td>1840.75</td>\n",
       "    </tr>\n",
       "    <tr>\n",
       "      <th>4</th>\n",
       "      <td>0</td>\n",
       "      <td>0</td>\n",
       "      <td>0</td>\n",
       "      <td>1</td>\n",
       "      <td>0</td>\n",
       "      <td>1</td>\n",
       "      <td>0</td>\n",
       "      <td>0</td>\n",
       "      <td>0</td>\n",
       "      <td>0</td>\n",
       "      <td>0</td>\n",
       "      <td>0</td>\n",
       "      <td>0</td>\n",
       "      <td>1</td>\n",
       "      <td>2</td>\n",
       "      <td>1</td>\n",
       "      <td>0</td>\n",
       "      <td>2</td>\n",
       "      <td>70.70</td>\n",
       "      <td>151.65</td>\n",
       "    </tr>\n",
       "  </tbody>\n",
       "</table>\n",
       "</div>"
      ],
      "text/plain": [
       "   gender  Partner  Dependents  PhoneService  MultipleLines  InternetService  \\\n",
       "0       0        1           0             0              1                0   \n",
       "1       1        0           0             1              0                0   \n",
       "2       1        0           0             1              0                0   \n",
       "3       1        0           0             0              1                0   \n",
       "4       0        0           0             1              0                1   \n",
       "\n",
       "   OnlineSecurity  OnlineBackup  DeviceProtection  TechSupport  StreamingTV  \\\n",
       "0               0             2                 0            0            0   \n",
       "1               2             0                 2            0            0   \n",
       "2               2             2                 0            0            0   \n",
       "3               2             0                 2            2            0   \n",
       "4               0             0                 0            0            0   \n",
       "\n",
       "   StreamingMovies  Contract  PaperlessBilling  PaymentMethod  Churn  \\\n",
       "0                0         0                 1              2      0   \n",
       "1                0         1                 0              3      0   \n",
       "2                0         0                 1              3      1   \n",
       "3                0         1                 0              0      0   \n",
       "4                0         0                 1              2      1   \n",
       "\n",
       "   SeniorCitizen  tenure  MonthlyCharges  TotalCharges  \n",
       "0              0       1           29.85         29.85  \n",
       "1              0      34           56.95       1889.50  \n",
       "2              0       2           53.85        108.15  \n",
       "3              0      45           42.30       1840.75  \n",
       "4              0       2           70.70        151.65  "
      ]
     },
     "execution_count": 100,
     "metadata": {},
     "output_type": "execute_result"
    }
   ],
   "source": [
    "#to merge 2 dataframe df_cat and df_num in new dataframe df1 \n",
    "df1=pd.concat([df_cat,df_num],axis=1)        \n",
    "df1.head()"
   ]
  },
  {
   "cell_type": "code",
   "execution_count": 101,
   "id": "6c30bbf9-44e3-4f83-8029-6702a9356d89",
   "metadata": {},
   "outputs": [],
   "source": [
    "#performing the model\n",
    "\n",
    "#select the input and output in the dataset df1\n",
    "X=df1.drop('Churn',axis=1)\n",
    "Y=df1['Churn']"
   ]
  },
  {
   "cell_type": "code",
   "execution_count": 102,
   "id": "ed573886-6a09-47dd-ad2b-50b05c7fff2b",
   "metadata": {},
   "outputs": [
    {
     "data": {
      "text/html": [
       "<div>\n",
       "<style scoped>\n",
       "    .dataframe tbody tr th:only-of-type {\n",
       "        vertical-align: middle;\n",
       "    }\n",
       "\n",
       "    .dataframe tbody tr th {\n",
       "        vertical-align: top;\n",
       "    }\n",
       "\n",
       "    .dataframe thead th {\n",
       "        text-align: right;\n",
       "    }\n",
       "</style>\n",
       "<table border=\"1\" class=\"dataframe\">\n",
       "  <thead>\n",
       "    <tr style=\"text-align: right;\">\n",
       "      <th></th>\n",
       "      <th>gender</th>\n",
       "      <th>Partner</th>\n",
       "      <th>Dependents</th>\n",
       "      <th>PhoneService</th>\n",
       "      <th>MultipleLines</th>\n",
       "      <th>InternetService</th>\n",
       "      <th>OnlineSecurity</th>\n",
       "      <th>OnlineBackup</th>\n",
       "      <th>DeviceProtection</th>\n",
       "      <th>TechSupport</th>\n",
       "      <th>StreamingTV</th>\n",
       "      <th>StreamingMovies</th>\n",
       "      <th>Contract</th>\n",
       "      <th>PaperlessBilling</th>\n",
       "      <th>PaymentMethod</th>\n",
       "      <th>SeniorCitizen</th>\n",
       "      <th>tenure</th>\n",
       "      <th>MonthlyCharges</th>\n",
       "      <th>TotalCharges</th>\n",
       "    </tr>\n",
       "  </thead>\n",
       "  <tbody>\n",
       "    <tr>\n",
       "      <th>0</th>\n",
       "      <td>0</td>\n",
       "      <td>1</td>\n",
       "      <td>0</td>\n",
       "      <td>0</td>\n",
       "      <td>1</td>\n",
       "      <td>0</td>\n",
       "      <td>0</td>\n",
       "      <td>2</td>\n",
       "      <td>0</td>\n",
       "      <td>0</td>\n",
       "      <td>0</td>\n",
       "      <td>0</td>\n",
       "      <td>0</td>\n",
       "      <td>1</td>\n",
       "      <td>2</td>\n",
       "      <td>0</td>\n",
       "      <td>1</td>\n",
       "      <td>29.85</td>\n",
       "      <td>29.85</td>\n",
       "    </tr>\n",
       "    <tr>\n",
       "      <th>1</th>\n",
       "      <td>1</td>\n",
       "      <td>0</td>\n",
       "      <td>0</td>\n",
       "      <td>1</td>\n",
       "      <td>0</td>\n",
       "      <td>0</td>\n",
       "      <td>2</td>\n",
       "      <td>0</td>\n",
       "      <td>2</td>\n",
       "      <td>0</td>\n",
       "      <td>0</td>\n",
       "      <td>0</td>\n",
       "      <td>1</td>\n",
       "      <td>0</td>\n",
       "      <td>3</td>\n",
       "      <td>0</td>\n",
       "      <td>34</td>\n",
       "      <td>56.95</td>\n",
       "      <td>1889.50</td>\n",
       "    </tr>\n",
       "    <tr>\n",
       "      <th>2</th>\n",
       "      <td>1</td>\n",
       "      <td>0</td>\n",
       "      <td>0</td>\n",
       "      <td>1</td>\n",
       "      <td>0</td>\n",
       "      <td>0</td>\n",
       "      <td>2</td>\n",
       "      <td>2</td>\n",
       "      <td>0</td>\n",
       "      <td>0</td>\n",
       "      <td>0</td>\n",
       "      <td>0</td>\n",
       "      <td>0</td>\n",
       "      <td>1</td>\n",
       "      <td>3</td>\n",
       "      <td>0</td>\n",
       "      <td>2</td>\n",
       "      <td>53.85</td>\n",
       "      <td>108.15</td>\n",
       "    </tr>\n",
       "    <tr>\n",
       "      <th>3</th>\n",
       "      <td>1</td>\n",
       "      <td>0</td>\n",
       "      <td>0</td>\n",
       "      <td>0</td>\n",
       "      <td>1</td>\n",
       "      <td>0</td>\n",
       "      <td>2</td>\n",
       "      <td>0</td>\n",
       "      <td>2</td>\n",
       "      <td>2</td>\n",
       "      <td>0</td>\n",
       "      <td>0</td>\n",
       "      <td>1</td>\n",
       "      <td>0</td>\n",
       "      <td>0</td>\n",
       "      <td>0</td>\n",
       "      <td>45</td>\n",
       "      <td>42.30</td>\n",
       "      <td>1840.75</td>\n",
       "    </tr>\n",
       "    <tr>\n",
       "      <th>4</th>\n",
       "      <td>0</td>\n",
       "      <td>0</td>\n",
       "      <td>0</td>\n",
       "      <td>1</td>\n",
       "      <td>0</td>\n",
       "      <td>1</td>\n",
       "      <td>0</td>\n",
       "      <td>0</td>\n",
       "      <td>0</td>\n",
       "      <td>0</td>\n",
       "      <td>0</td>\n",
       "      <td>0</td>\n",
       "      <td>0</td>\n",
       "      <td>1</td>\n",
       "      <td>2</td>\n",
       "      <td>0</td>\n",
       "      <td>2</td>\n",
       "      <td>70.70</td>\n",
       "      <td>151.65</td>\n",
       "    </tr>\n",
       "  </tbody>\n",
       "</table>\n",
       "</div>"
      ],
      "text/plain": [
       "   gender  Partner  Dependents  PhoneService  MultipleLines  InternetService  \\\n",
       "0       0        1           0             0              1                0   \n",
       "1       1        0           0             1              0                0   \n",
       "2       1        0           0             1              0                0   \n",
       "3       1        0           0             0              1                0   \n",
       "4       0        0           0             1              0                1   \n",
       "\n",
       "   OnlineSecurity  OnlineBackup  DeviceProtection  TechSupport  StreamingTV  \\\n",
       "0               0             2                 0            0            0   \n",
       "1               2             0                 2            0            0   \n",
       "2               2             2                 0            0            0   \n",
       "3               2             0                 2            2            0   \n",
       "4               0             0                 0            0            0   \n",
       "\n",
       "   StreamingMovies  Contract  PaperlessBilling  PaymentMethod  SeniorCitizen  \\\n",
       "0                0         0                 1              2              0   \n",
       "1                0         1                 0              3              0   \n",
       "2                0         0                 1              3              0   \n",
       "3                0         1                 0              0              0   \n",
       "4                0         0                 1              2              0   \n",
       "\n",
       "   tenure  MonthlyCharges  TotalCharges  \n",
       "0       1           29.85         29.85  \n",
       "1      34           56.95       1889.50  \n",
       "2       2           53.85        108.15  \n",
       "3      45           42.30       1840.75  \n",
       "4       2           70.70        151.65  "
      ]
     },
     "execution_count": 102,
     "metadata": {},
     "output_type": "execute_result"
    }
   ],
   "source": [
    "X.head()"
   ]
  },
  {
   "cell_type": "code",
   "execution_count": 103,
   "id": "cbf34b77-bb65-447c-a9e6-917a808f131a",
   "metadata": {},
   "outputs": [],
   "source": [
    "# To train-test the data by spliting it into 70%- training data and 30% - testing data\n",
    "from sklearn.model_selection import train_test_split\n",
    "X_train,X_test,Y_train,Y_test=train_test_split(X,Y,test_size=0.3,random_state=1)"
   ]
  },
  {
   "cell_type": "code",
   "execution_count": 104,
   "id": "40965c38-5a57-4a6d-9862-9cac612f2bc0",
   "metadata": {},
   "outputs": [
    {
     "data": {
      "text/plain": [
       "Churn\n",
       "0    5164\n",
       "1    1857\n",
       "Name: count, dtype: int64"
      ]
     },
     "execution_count": 104,
     "metadata": {},
     "output_type": "execute_result"
    }
   ],
   "source": [
    "df1['Churn'].value_counts()"
   ]
  },
  {
   "cell_type": "code",
   "execution_count": 105,
   "id": "d316f816-602b-4e91-80ab-1c320fcdb778",
   "metadata": {},
   "outputs": [],
   "source": [
    "#As the data has imbalanced data we have to use RandomOverSampler to balance the data\n",
    "#RandomOverSampler increases the number of samples in the minority class by duplicating examples \n",
    "#from the minority class until the class distribution is balanced.\n",
    "from imblearn.over_sampling import RandomOverSampler"
   ]
  },
  {
   "cell_type": "code",
   "execution_count": 106,
   "id": "590f1218-ceeb-4f91-a939-98499414a337",
   "metadata": {},
   "outputs": [],
   "source": [
    "#create object of  RandomOverSampler() class\n",
    "ros = RandomOverSampler() "
   ]
  },
  {
   "cell_type": "code",
   "execution_count": 107,
   "id": "c899449d-a9b5-4cf6-ba17-3f20c85e11dd",
   "metadata": {},
   "outputs": [],
   "source": [
    "#apply randomoversampling for balance\n",
    "X_train1,Y_train1=ros.fit_resample(X_train,Y_train)"
   ]
  },
  {
   "cell_type": "code",
   "execution_count": 108,
   "id": "8138d202-c217-4971-950c-6741c3455042",
   "metadata": {},
   "outputs": [],
   "source": [
    "X_test1,Y_test1=ros.fit_resample(X_test,Y_test)"
   ]
  },
  {
   "cell_type": "code",
   "execution_count": 109,
   "id": "b90e6c17-5cea-415e-b38d-f26dfcba4190",
   "metadata": {},
   "outputs": [
    {
     "data": {
      "text/plain": [
       "Churn\n",
       "0    3582\n",
       "1    3582\n",
       "Name: count, dtype: int64"
      ]
     },
     "execution_count": 109,
     "metadata": {},
     "output_type": "execute_result"
    }
   ],
   "source": [
    "pd.Series(Y_train1).value_counts() #check if not balance "
   ]
  },
  {
   "cell_type": "code",
   "execution_count": 110,
   "id": "65a3fc19-c1f9-4203-a6d7-c77478ffb117",
   "metadata": {},
   "outputs": [],
   "source": [
    "#Applying StandardScaler on input data\n",
    "\n",
    "from sklearn.preprocessing import StandardScaler\n",
    "ss=StandardScaler()                                        \n",
    "X_train1=ss.fit_transform(X_train1)          \n",
    "X_test1=ss.transform(X_test1)"
   ]
  },
  {
   "cell_type": "code",
   "execution_count": 111,
   "id": "f885b7f6-5dbf-448d-b7de-597d5fd42bf0",
   "metadata": {},
   "outputs": [],
   "source": [
    "#creat a user defined function and passig the objet of classification algorithm\n",
    "\n",
    "def create_model(model):         #create_model is a user defined function name, model is user defined object of classification algorithm\n",
    "    model.fit(X_train1,Y_train1)      #train the model with 70% data\n",
    "    Y_pred=model.predict(X_test1)    #test the model with 30% data\n",
    "    #print confusion matrix\n",
    "    cm=print(confusion_matrix(Y_test1,Y_pred))\n",
    "    #print classification report\n",
    "    print(classification_report(Y_test1,Y_pred))\n",
    "    return model                         # to get the information gain because it is stored in the object"
   ]
  },
  {
   "cell_type": "code",
   "execution_count": 112,
   "id": "7d067b0b-b55c-4b10-bfc3-836cdb99d894",
   "metadata": {},
   "outputs": [
    {
     "name": "stdout",
     "output_type": "stream",
     "text": [
      "[[1148  434]\n",
      " [ 299 1283]]\n",
      "              precision    recall  f1-score   support\n",
      "\n",
      "           0       0.79      0.73      0.76      1582\n",
      "           1       0.75      0.81      0.78      1582\n",
      "\n",
      "    accuracy                           0.77      3164\n",
      "   macro avg       0.77      0.77      0.77      3164\n",
      "weighted avg       0.77      0.77      0.77      3164\n",
      "\n"
     ]
    }
   ],
   "source": [
    "#applying logistic regression\n",
    "\n",
    "from sklearn.linear_model import LogisticRegression\n",
    "#create object of LogisticRegression\n",
    "lr=LogisticRegression()\n",
    "\n",
    "#call function\n",
    "lr = create_model(lr)"
   ]
  },
  {
   "cell_type": "code",
   "execution_count": 113,
   "id": "509ae4f9-89ad-4c73-afcf-a8d7d125a91e",
   "metadata": {},
   "outputs": [
    {
     "name": "stdout",
     "output_type": "stream",
     "text": [
      "[[1300  282]\n",
      " [ 819  763]]\n",
      "              precision    recall  f1-score   support\n",
      "\n",
      "           0       0.61      0.82      0.70      1582\n",
      "           1       0.73      0.48      0.58      1582\n",
      "\n",
      "    accuracy                           0.65      3164\n",
      "   macro avg       0.67      0.65      0.64      3164\n",
      "weighted avg       0.67      0.65      0.64      3164\n",
      "\n"
     ]
    }
   ],
   "source": [
    "#applying DecisionTreeClassifier\n",
    "\n",
    "from sklearn.tree import DecisionTreeClassifier\n",
    "\n",
    "#create object of DecisionTreeClassifier class\n",
    "dt=DecisionTreeClassifier(random_state=1)                   #this will give result using gini index\n",
    "\n",
    "#call the fuction\n",
    "dt=create_model(dt) "
   ]
  },
  {
   "cell_type": "code",
   "execution_count": 114,
   "id": "2386c822-2251-49f2-b010-0a99246f00ae",
   "metadata": {},
   "outputs": [
    {
     "data": {
      "text/html": [
       "<div>\n",
       "<style scoped>\n",
       "    .dataframe tbody tr th:only-of-type {\n",
       "        vertical-align: middle;\n",
       "    }\n",
       "\n",
       "    .dataframe tbody tr th {\n",
       "        vertical-align: top;\n",
       "    }\n",
       "\n",
       "    .dataframe thead th {\n",
       "        text-align: right;\n",
       "    }\n",
       "</style>\n",
       "<table border=\"1\" class=\"dataframe\">\n",
       "  <thead>\n",
       "    <tr style=\"text-align: right;\">\n",
       "      <th></th>\n",
       "      <th>Input column</th>\n",
       "      <th>Information Gain</th>\n",
       "    </tr>\n",
       "  </thead>\n",
       "  <tbody>\n",
       "    <tr>\n",
       "      <th>12</th>\n",
       "      <td>Contract</td>\n",
       "      <td>0.232739</td>\n",
       "    </tr>\n",
       "    <tr>\n",
       "      <th>17</th>\n",
       "      <td>MonthlyCharges</td>\n",
       "      <td>0.199909</td>\n",
       "    </tr>\n",
       "    <tr>\n",
       "      <th>18</th>\n",
       "      <td>TotalCharges</td>\n",
       "      <td>0.187426</td>\n",
       "    </tr>\n",
       "    <tr>\n",
       "      <th>16</th>\n",
       "      <td>tenure</td>\n",
       "      <td>0.104057</td>\n",
       "    </tr>\n",
       "    <tr>\n",
       "      <th>14</th>\n",
       "      <td>PaymentMethod</td>\n",
       "      <td>0.042944</td>\n",
       "    </tr>\n",
       "    <tr>\n",
       "      <th>6</th>\n",
       "      <td>OnlineSecurity</td>\n",
       "      <td>0.041870</td>\n",
       "    </tr>\n",
       "    <tr>\n",
       "      <th>13</th>\n",
       "      <td>PaperlessBilling</td>\n",
       "      <td>0.024149</td>\n",
       "    </tr>\n",
       "    <tr>\n",
       "      <th>4</th>\n",
       "      <td>MultipleLines</td>\n",
       "      <td>0.020056</td>\n",
       "    </tr>\n",
       "    <tr>\n",
       "      <th>0</th>\n",
       "      <td>gender</td>\n",
       "      <td>0.018981</td>\n",
       "    </tr>\n",
       "    <tr>\n",
       "      <th>9</th>\n",
       "      <td>TechSupport</td>\n",
       "      <td>0.017905</td>\n",
       "    </tr>\n",
       "    <tr>\n",
       "      <th>1</th>\n",
       "      <td>Partner</td>\n",
       "      <td>0.017737</td>\n",
       "    </tr>\n",
       "    <tr>\n",
       "      <th>7</th>\n",
       "      <td>OnlineBackup</td>\n",
       "      <td>0.017631</td>\n",
       "    </tr>\n",
       "    <tr>\n",
       "      <th>8</th>\n",
       "      <td>DeviceProtection</td>\n",
       "      <td>0.015107</td>\n",
       "    </tr>\n",
       "    <tr>\n",
       "      <th>2</th>\n",
       "      <td>Dependents</td>\n",
       "      <td>0.014834</td>\n",
       "    </tr>\n",
       "    <tr>\n",
       "      <th>15</th>\n",
       "      <td>SeniorCitizen</td>\n",
       "      <td>0.013886</td>\n",
       "    </tr>\n",
       "    <tr>\n",
       "      <th>5</th>\n",
       "      <td>InternetService</td>\n",
       "      <td>0.010335</td>\n",
       "    </tr>\n",
       "    <tr>\n",
       "      <th>11</th>\n",
       "      <td>StreamingMovies</td>\n",
       "      <td>0.009435</td>\n",
       "    </tr>\n",
       "    <tr>\n",
       "      <th>10</th>\n",
       "      <td>StreamingTV</td>\n",
       "      <td>0.009133</td>\n",
       "    </tr>\n",
       "    <tr>\n",
       "      <th>3</th>\n",
       "      <td>PhoneService</td>\n",
       "      <td>0.001868</td>\n",
       "    </tr>\n",
       "  </tbody>\n",
       "</table>\n",
       "</div>"
      ],
      "text/plain": [
       "        Input column  Information Gain\n",
       "12          Contract          0.232739\n",
       "17    MonthlyCharges          0.199909\n",
       "18      TotalCharges          0.187426\n",
       "16            tenure          0.104057\n",
       "14     PaymentMethod          0.042944\n",
       "6     OnlineSecurity          0.041870\n",
       "13  PaperlessBilling          0.024149\n",
       "4      MultipleLines          0.020056\n",
       "0             gender          0.018981\n",
       "9        TechSupport          0.017905\n",
       "1            Partner          0.017737\n",
       "7       OnlineBackup          0.017631\n",
       "8   DeviceProtection          0.015107\n",
       "2         Dependents          0.014834\n",
       "15     SeniorCitizen          0.013886\n",
       "5    InternetService          0.010335\n",
       "11   StreamingMovies          0.009435\n",
       "10       StreamingTV          0.009133\n",
       "3       PhoneService          0.001868"
      ]
     },
     "execution_count": 114,
     "metadata": {},
     "output_type": "execute_result"
    }
   ],
   "source": [
    "#to see the important features\n",
    "IG=dt.feature_importances_\n",
    "dict={'Input column':X.columns,\"Information Gain\":IG}\n",
    "df2=pd.DataFrame(dict)\n",
    "df2.sort_values('Information Gain',ascending=False)"
   ]
  },
  {
   "cell_type": "code",
   "execution_count": 115,
   "id": "90f2a82a-ce81-4ddd-a3cf-d51ac8a768a3",
   "metadata": {},
   "outputs": [
    {
     "name": "stdout",
     "output_type": "stream",
     "text": [
      "[[1316  266]\n",
      " [ 792  790]]\n",
      "              precision    recall  f1-score   support\n",
      "\n",
      "           0       0.62      0.83      0.71      1582\n",
      "           1       0.75      0.50      0.60      1582\n",
      "\n",
      "    accuracy                           0.67      3164\n",
      "   macro avg       0.69      0.67      0.66      3164\n",
      "weighted avg       0.69      0.67      0.66      3164\n",
      "\n"
     ]
    }
   ],
   "source": [
    "#applying DecisionTreeClassifier using entropy\n",
    "dt1=DecisionTreeClassifier(criterion='entropy',random_state=1)                    #this will give result using entropy\n",
    "\n",
    "#call the fuction\n",
    "dt1=create_model(dt1)                   "
   ]
  },
  {
   "cell_type": "code",
   "execution_count": 116,
   "id": "7c1bc124-4660-4dc2-8a61-33f8efd34618",
   "metadata": {},
   "outputs": [
    {
     "data": {
      "text/html": [
       "<div>\n",
       "<style scoped>\n",
       "    .dataframe tbody tr th:only-of-type {\n",
       "        vertical-align: middle;\n",
       "    }\n",
       "\n",
       "    .dataframe tbody tr th {\n",
       "        vertical-align: top;\n",
       "    }\n",
       "\n",
       "    .dataframe thead th {\n",
       "        text-align: right;\n",
       "    }\n",
       "</style>\n",
       "<table border=\"1\" class=\"dataframe\">\n",
       "  <thead>\n",
       "    <tr style=\"text-align: right;\">\n",
       "      <th></th>\n",
       "      <th>Input column</th>\n",
       "      <th>Information Gain</th>\n",
       "    </tr>\n",
       "  </thead>\n",
       "  <tbody>\n",
       "    <tr>\n",
       "      <th>18</th>\n",
       "      <td>TotalCharges</td>\n",
       "      <td>0.210269</td>\n",
       "    </tr>\n",
       "    <tr>\n",
       "      <th>17</th>\n",
       "      <td>MonthlyCharges</td>\n",
       "      <td>0.209681</td>\n",
       "    </tr>\n",
       "    <tr>\n",
       "      <th>12</th>\n",
       "      <td>Contract</td>\n",
       "      <td>0.185212</td>\n",
       "    </tr>\n",
       "    <tr>\n",
       "      <th>16</th>\n",
       "      <td>tenure</td>\n",
       "      <td>0.110298</td>\n",
       "    </tr>\n",
       "    <tr>\n",
       "      <th>14</th>\n",
       "      <td>PaymentMethod</td>\n",
       "      <td>0.045175</td>\n",
       "    </tr>\n",
       "    <tr>\n",
       "      <th>6</th>\n",
       "      <td>OnlineSecurity</td>\n",
       "      <td>0.032967</td>\n",
       "    </tr>\n",
       "    <tr>\n",
       "      <th>0</th>\n",
       "      <td>gender</td>\n",
       "      <td>0.026944</td>\n",
       "    </tr>\n",
       "    <tr>\n",
       "      <th>1</th>\n",
       "      <td>Partner</td>\n",
       "      <td>0.025681</td>\n",
       "    </tr>\n",
       "    <tr>\n",
       "      <th>4</th>\n",
       "      <td>MultipleLines</td>\n",
       "      <td>0.022872</td>\n",
       "    </tr>\n",
       "    <tr>\n",
       "      <th>15</th>\n",
       "      <td>SeniorCitizen</td>\n",
       "      <td>0.020212</td>\n",
       "    </tr>\n",
       "    <tr>\n",
       "      <th>13</th>\n",
       "      <td>PaperlessBilling</td>\n",
       "      <td>0.019252</td>\n",
       "    </tr>\n",
       "    <tr>\n",
       "      <th>2</th>\n",
       "      <td>Dependents</td>\n",
       "      <td>0.015507</td>\n",
       "    </tr>\n",
       "    <tr>\n",
       "      <th>8</th>\n",
       "      <td>DeviceProtection</td>\n",
       "      <td>0.015289</td>\n",
       "    </tr>\n",
       "    <tr>\n",
       "      <th>11</th>\n",
       "      <td>StreamingMovies</td>\n",
       "      <td>0.013998</td>\n",
       "    </tr>\n",
       "    <tr>\n",
       "      <th>5</th>\n",
       "      <td>InternetService</td>\n",
       "      <td>0.013361</td>\n",
       "    </tr>\n",
       "    <tr>\n",
       "      <th>7</th>\n",
       "      <td>OnlineBackup</td>\n",
       "      <td>0.012155</td>\n",
       "    </tr>\n",
       "    <tr>\n",
       "      <th>9</th>\n",
       "      <td>TechSupport</td>\n",
       "      <td>0.010250</td>\n",
       "    </tr>\n",
       "    <tr>\n",
       "      <th>10</th>\n",
       "      <td>StreamingTV</td>\n",
       "      <td>0.008216</td>\n",
       "    </tr>\n",
       "    <tr>\n",
       "      <th>3</th>\n",
       "      <td>PhoneService</td>\n",
       "      <td>0.002662</td>\n",
       "    </tr>\n",
       "  </tbody>\n",
       "</table>\n",
       "</div>"
      ],
      "text/plain": [
       "        Input column  Information Gain\n",
       "18      TotalCharges          0.210269\n",
       "17    MonthlyCharges          0.209681\n",
       "12          Contract          0.185212\n",
       "16            tenure          0.110298\n",
       "14     PaymentMethod          0.045175\n",
       "6     OnlineSecurity          0.032967\n",
       "0             gender          0.026944\n",
       "1            Partner          0.025681\n",
       "4      MultipleLines          0.022872\n",
       "15     SeniorCitizen          0.020212\n",
       "13  PaperlessBilling          0.019252\n",
       "2         Dependents          0.015507\n",
       "8   DeviceProtection          0.015289\n",
       "11   StreamingMovies          0.013998\n",
       "5    InternetService          0.013361\n",
       "7       OnlineBackup          0.012155\n",
       "9        TechSupport          0.010250\n",
       "10       StreamingTV          0.008216\n",
       "3       PhoneService          0.002662"
      ]
     },
     "execution_count": 116,
     "metadata": {},
     "output_type": "execute_result"
    }
   ],
   "source": [
    "#to see the important features\n",
    "IG=dt1.feature_importances_\n",
    "dict={'Input column':X.columns,\"Information Gain\":IG}\n",
    "df2=pd.DataFrame(dict)\n",
    "df2.sort_values('Information Gain',ascending=False)"
   ]
  },
  {
   "cell_type": "code",
   "execution_count": 117,
   "id": "7f68c3b7-3d25-4f5c-850f-3281ab88f795",
   "metadata": {},
   "outputs": [],
   "source": [
    "#as the DecisionTreeClassifier takes the input even if it give less information because of which the model becomes overfit\n",
    "#to reduce this applying purning technique\n",
    "\n",
    "#1)max_depth\n",
    "#max_depth>=1 and max_depth<=8\n",
    "#for i in range(1,9):\n",
    "    #create object of DecisionTreeClassifier\n",
    "#    dt=DecisionTreeClassifier(max_depth=i,random_state=1)    #by default gini index\n",
    "#    print(\"Max depth : \",i)\n",
    "    #call function\n",
    "#    dt=create_model(dt)\n",
    "#    print()"
   ]
  },
  {
   "cell_type": "code",
   "execution_count": 118,
   "id": "831d398e-9261-4452-bed3-3ee4ae36f43c",
   "metadata": {},
   "outputs": [
    {
     "name": "stdout",
     "output_type": "stream",
     "text": [
      "[[1167  415]\n",
      " [ 388 1194]]\n",
      "              precision    recall  f1-score   support\n",
      "\n",
      "           0       0.75      0.74      0.74      1582\n",
      "           1       0.74      0.75      0.75      1582\n",
      "\n",
      "    accuracy                           0.75      3164\n",
      "   macro avg       0.75      0.75      0.75      3164\n",
      "weighted avg       0.75      0.75      0.75      3164\n",
      "\n"
     ]
    }
   ],
   "source": [
    "dt2=DecisionTreeClassifier(max_depth=5,random_state=1)     #by default gini index\n",
    "dt2=create_model(dt2)"
   ]
  },
  {
   "cell_type": "code",
   "execution_count": 119,
   "id": "662a3e3d",
   "metadata": {},
   "outputs": [
    {
     "name": "stdout",
     "output_type": "stream",
     "text": [
      "[[1249  333]\n",
      " [ 444 1138]]\n",
      "              precision    recall  f1-score   support\n",
      "\n",
      "           0       0.74      0.79      0.76      1582\n",
      "           1       0.77      0.72      0.75      1582\n",
      "\n",
      "    accuracy                           0.75      3164\n",
      "   macro avg       0.76      0.75      0.75      3164\n",
      "weighted avg       0.76      0.75      0.75      3164\n",
      "\n"
     ]
    }
   ],
   "source": [
    "dt3=DecisionTreeClassifier(max_depth=5,criterion='entropy',random_state=1)     \n",
    "dt3=create_model(dt3)"
   ]
  },
  {
   "cell_type": "code",
   "execution_count": 120,
   "id": "ea8d7bab-1ede-4ea5-8055-49e026bdfb38",
   "metadata": {},
   "outputs": [],
   "source": [
    "#applying 2nd purning technique\n",
    "#2)min_samples_leaf\n",
    "\n",
    "#for i in range(50,101):       \n",
    "    #create object of DecisionTreeClassifier\n",
    "#    dt2=DecisionTreeClassifier(min_samples_leaf=i,random_state=1)    #by default gini index\n",
    "#    print(\"min_samples_leaf: \",i)\n",
    "    #call function\n",
    "#    dt2=create_model(dt2)\n",
    "#    print()"
   ]
  },
  {
   "cell_type": "code",
   "execution_count": 121,
   "id": "016ba8d5-f75c-4951-b49c-30e03ad3d6b3",
   "metadata": {},
   "outputs": [
    {
     "name": "stdout",
     "output_type": "stream",
     "text": [
      "[[1177  405]\n",
      " [ 401 1181]]\n",
      "              precision    recall  f1-score   support\n",
      "\n",
      "           0       0.75      0.74      0.74      1582\n",
      "           1       0.74      0.75      0.75      1582\n",
      "\n",
      "    accuracy                           0.75      3164\n",
      "   macro avg       0.75      0.75      0.75      3164\n",
      "weighted avg       0.75      0.75      0.75      3164\n",
      "\n"
     ]
    }
   ],
   "source": [
    "dt4=DecisionTreeClassifier(min_samples_leaf=83,criterion='entropy',random_state=1)     \n",
    "dt4=create_model(dt4)"
   ]
  },
  {
   "cell_type": "code",
   "execution_count": 122,
   "id": "fc26cb1a",
   "metadata": {},
   "outputs": [
    {
     "name": "stdout",
     "output_type": "stream",
     "text": [
      "[[1184  398]\n",
      " [ 426 1156]]\n",
      "              precision    recall  f1-score   support\n",
      "\n",
      "           0       0.74      0.75      0.74      1582\n",
      "           1       0.74      0.73      0.74      1582\n",
      "\n",
      "    accuracy                           0.74      3164\n",
      "   macro avg       0.74      0.74      0.74      3164\n",
      "weighted avg       0.74      0.74      0.74      3164\n",
      "\n"
     ]
    }
   ],
   "source": [
    "dt5=DecisionTreeClassifier(min_samples_leaf=83,random_state=1)     #using gini index\n",
    "dt5=create_model(dt5)"
   ]
  },
  {
   "cell_type": "code",
   "execution_count": 123,
   "id": "cc6b75f6-c357-4e2d-b32d-680d339d312c",
   "metadata": {},
   "outputs": [],
   "source": [
    "#using various ensembling technique to increase the accuracy\n",
    "\n",
    "#Bootstraping Ensembling technique\n",
    "#use RandomForestClassifier\n",
    "\n",
    "from sklearn.ensemble import RandomForestClassifier\n",
    "\n",
    "#create object of RandomForestClassifier class min DecisionTree = 10 and max=100\n",
    "#for i in range(10,101):\n",
    "    #create object of RandomForestClassifier class\n",
    "#    rfc=RandomForestClassifier(random_state=1,n_estimators=i)   \n",
    "    #n_estimators inbuilt parameter  means no. of decision tree taken first will take 10 than 11 ...\n",
    "#    print(\"no. of Decision Tree: \",i)\n",
    "#    rfc=create_model(rfc)"
   ]
  },
  {
   "cell_type": "code",
   "execution_count": 124,
   "id": "7c5cc3b6-990d-484b-84a8-c6e8ee648577",
   "metadata": {},
   "outputs": [
    {
     "name": "stdout",
     "output_type": "stream",
     "text": [
      "[[1352  230]\n",
      " [ 718  864]]\n",
      "              precision    recall  f1-score   support\n",
      "\n",
      "           0       0.65      0.85      0.74      1582\n",
      "           1       0.79      0.55      0.65      1582\n",
      "\n",
      "    accuracy                           0.70      3164\n",
      "   macro avg       0.72      0.70      0.69      3164\n",
      "weighted avg       0.72      0.70      0.69      3164\n",
      "\n"
     ]
    }
   ],
   "source": [
    "rfc=RandomForestClassifier(random_state=1,n_estimators=43) \n",
    "rfc=create_model(rfc)\n"
   ]
  },
  {
   "cell_type": "code",
   "execution_count": 125,
   "id": "6061c6bf-f032-4db5-9db0-8bba2b2d56e4",
   "metadata": {},
   "outputs": [],
   "source": [
    "# Ensembling technique : Boosting technique\n",
    "#1) ADA Boost (Adaptor Boosting)\n",
    "from sklearn.ensemble import AdaBoostClassifier"
   ]
  },
  {
   "cell_type": "code",
   "execution_count": 126,
   "id": "ee7b43a9-9266-4c30-a174-d4c26ee4c276",
   "metadata": {},
   "outputs": [
    {
     "data": {
      "text/plain": [
       "(7021, 19)"
      ]
     },
     "execution_count": 126,
     "metadata": {},
     "output_type": "execute_result"
    }
   ],
   "source": [
    "X.shape"
   ]
  },
  {
   "cell_type": "code",
   "execution_count": 127,
   "id": "83e8c9b9-41fc-454f-98d2-61e45139b978",
   "metadata": {},
   "outputs": [],
   "source": [
    "#here input column is 19 \n",
    "#maximum decison stump=19 and min decision stump = 1\n",
    "\n",
    "#for i in range(1,20):\n",
    "    #create object of AdaBoostClassifier class and passing value of parameter n_estimators\n",
    "#    ada=AdaBoostClassifier(random_state=1,n_estimators=i)\n",
    "#    print(\"No. of decision stump: \",i)\n",
    "    #call the function\n",
    "#    ada=create_model(ada)"
   ]
  },
  {
   "cell_type": "code",
   "execution_count": 128,
   "id": "699e967e-fa6d-4df7-b2e9-97e8d60f032b",
   "metadata": {},
   "outputs": [
    {
     "name": "stdout",
     "output_type": "stream",
     "text": [
      "[[1135  447]\n",
      " [ 336 1246]]\n",
      "              precision    recall  f1-score   support\n",
      "\n",
      "           0       0.77      0.72      0.74      1582\n",
      "           1       0.74      0.79      0.76      1582\n",
      "\n",
      "    accuracy                           0.75      3164\n",
      "   macro avg       0.75      0.75      0.75      3164\n",
      "weighted avg       0.75      0.75      0.75      3164\n",
      "\n"
     ]
    }
   ],
   "source": [
    "ada=AdaBoostClassifier(random_state=1,n_estimators=16)\n",
    "ada=create_model(ada)"
   ]
  },
  {
   "cell_type": "code",
   "execution_count": 129,
   "id": "3d0b4e24-2028-4533-995b-daae536a3d88",
   "metadata": {},
   "outputs": [],
   "source": [
    "#2)Gradient Boosting\n",
    "#use inbuilt class GradientBoostingClassifier \n",
    "from sklearn.ensemble import GradientBoostingClassifier\n",
    "\n",
    "#Min DecisionTree  10 and max 100\n",
    "#for i in range(10,101):    \n",
    "      #create object of GradientBoostingClassifier class and pass the parameter\n",
    "#    gbc=GradientBoostingClassifier(n_estimators=i,random_state=1)\n",
    "#    print(\"No. of Tree: \",i)\n",
    "    #call function\n",
    "#    gbc=create_model(gbc)"
   ]
  },
  {
   "cell_type": "code",
   "execution_count": 130,
   "id": "41f0e61b-96a2-47e6-a090-5b97e8a94fc8",
   "metadata": {},
   "outputs": [
    {
     "name": "stdout",
     "output_type": "stream",
     "text": [
      "[[1137  445]\n",
      " [ 307 1275]]\n",
      "              precision    recall  f1-score   support\n",
      "\n",
      "           0       0.79      0.72      0.75      1582\n",
      "           1       0.74      0.81      0.77      1582\n",
      "\n",
      "    accuracy                           0.76      3164\n",
      "   macro avg       0.76      0.76      0.76      3164\n",
      "weighted avg       0.76      0.76      0.76      3164\n",
      "\n"
     ]
    }
   ],
   "source": [
    "gbc=GradientBoostingClassifier(n_estimators=35,random_state=1)\n",
    "gbc=create_model(gbc)"
   ]
  },
  {
   "cell_type": "code",
   "execution_count": 131,
   "id": "3c104630-f3f2-46d5-adf2-9e4e8bbf33cc",
   "metadata": {},
   "outputs": [],
   "source": [
    "#3)ExtremeGradientBoosting (XGB) : similar as gradient boost\n",
    "\n",
    "from xgboost import XGBClassifier\n",
    "\n",
    "#XGBClassifier inbuilt class which is define in xgboost inbuilt package\n",
    "\n",
    "#for i in range(10,101):\n",
    "    \n",
    "#create object of XGBClassifier class and pass the parameter\n",
    "#    xgb=XGBClassifier(n_estimators=i,random_state=1,reg_alpha=1)  #reg_alpha=1 means true\n",
    "#    print(\"No. of Tree: \",i)\n",
    "    #call function\n",
    "#    xgb=create_model(xgb)\n",
    "    "
   ]
  },
  {
   "cell_type": "code",
   "execution_count": 132,
   "id": "aceb43f7-c0eb-47a0-8908-4898ad229f6e",
   "metadata": {},
   "outputs": [
    {
     "name": "stdout",
     "output_type": "stream",
     "text": [
      "[[1159  423]\n",
      " [ 369 1213]]\n",
      "              precision    recall  f1-score   support\n",
      "\n",
      "           0       0.76      0.73      0.75      1582\n",
      "           1       0.74      0.77      0.75      1582\n",
      "\n",
      "    accuracy                           0.75      3164\n",
      "   macro avg       0.75      0.75      0.75      3164\n",
      "weighted avg       0.75      0.75      0.75      3164\n",
      "\n"
     ]
    }
   ],
   "source": [
    "xgb=XGBClassifier(n_estimators=10,random_state=1,reg_alpha=1)  \n",
    "xgb=create_model(xgb)"
   ]
  },
  {
   "cell_type": "code",
   "execution_count": 133,
   "id": "f4a51d3a-a4e1-47a3-811e-c35915dc6943",
   "metadata": {},
   "outputs": [
    {
     "name": "stdout",
     "output_type": "stream",
     "text": [
      "[[1126  456]\n",
      " [ 305 1277]]\n",
      "              precision    recall  f1-score   support\n",
      "\n",
      "           0       0.79      0.71      0.75      1582\n",
      "           1       0.74      0.81      0.77      1582\n",
      "\n",
      "    accuracy                           0.76      3164\n",
      "   macro avg       0.76      0.76      0.76      3164\n",
      "weighted avg       0.76      0.76      0.76      3164\n",
      "\n"
     ]
    }
   ],
   "source": [
    "#SVM - Support Vector Machine\n",
    "from sklearn.svm import LinearSVC\n",
    "#create object of LinearSVC\n",
    "svc=LinearSVC(random_state=1)    #by default hard margin \n",
    "#call the function\n",
    "svc=create_model(svc)"
   ]
  },
  {
   "cell_type": "code",
   "execution_count": 134,
   "id": "a94b5ec7-ff38-4d6a-a3fe-e23b1634c37a",
   "metadata": {},
   "outputs": [
    {
     "name": "stdout",
     "output_type": "stream",
     "text": [
      "[[1126  456]\n",
      " [ 305 1277]]\n",
      "              precision    recall  f1-score   support\n",
      "\n",
      "           0       0.79      0.71      0.75      1582\n",
      "           1       0.74      0.81      0.77      1582\n",
      "\n",
      "    accuracy                           0.76      3164\n",
      "   macro avg       0.76      0.76      0.76      3164\n",
      "weighted avg       0.76      0.76      0.76      3164\n",
      "\n"
     ]
    }
   ],
   "source": [
    "svc1=LinearSVC(random_state=1,C=0.98)      #passing the parameter to add external error : C value of C between 0-1\n",
    "#call the function\n",
    "svc1=create_model(svc1)"
   ]
  },
  {
   "cell_type": "code",
   "execution_count": 135,
   "id": "efc85b6f-f14d-468b-8576-94b647537b92",
   "metadata": {},
   "outputs": [
    {
     "name": "stdout",
     "output_type": "stream",
     "text": [
      "[[1121  461]\n",
      " [ 366 1216]]\n",
      "              precision    recall  f1-score   support\n",
      "\n",
      "           0       0.75      0.71      0.73      1582\n",
      "           1       0.73      0.77      0.75      1582\n",
      "\n",
      "    accuracy                           0.74      3164\n",
      "   macro avg       0.74      0.74      0.74      3164\n",
      "weighted avg       0.74      0.74      0.74      3164\n",
      "\n"
     ]
    }
   ],
   "source": [
    "#here no changes in recall and accuracy on adding external error also which means data is can't we divided by the straight line\n",
    "#means data is non linear\n",
    "\n",
    "#there are 2 types of non-linear function\n",
    "#1)polynomial kernel function\n",
    "#2)Radial basis kernel function\n",
    "\n",
    "\n",
    "#1)polynomial kernel function\n",
    "from sklearn.svm import SVC\n",
    "\n",
    "#create object of svc class and pass the value of parameter kernel=\"poly\"\n",
    "poly_svc=SVC(random_state=1,kernel='poly')\n",
    "#call the function\n",
    "poly_svc=create_model(poly_svc)"
   ]
  },
  {
   "cell_type": "code",
   "execution_count": 136,
   "id": "5b844637-fcf2-47f1-b7e7-470eacd68698",
   "metadata": {},
   "outputs": [
    {
     "name": "stdout",
     "output_type": "stream",
     "text": [
      "[[1140  442]\n",
      " [ 373 1209]]\n",
      "              precision    recall  f1-score   support\n",
      "\n",
      "           0       0.75      0.72      0.74      1582\n",
      "           1       0.73      0.76      0.75      1582\n",
      "\n",
      "    accuracy                           0.74      3164\n",
      "   macro avg       0.74      0.74      0.74      3164\n",
      "weighted avg       0.74      0.74      0.74      3164\n",
      "\n"
     ]
    }
   ],
   "source": [
    "#2)Radial basis kernel function : in this data is separated by circle\n",
    "\n",
    "#create object of svc class and pass the value of parameter kernel=\"rbf\"\n",
    "radial_svc=SVC(random_state=1,kernel='rbf')\n",
    "#call the function\n",
    "radial_svc=create_model(radial_svc)"
   ]
  },
  {
   "cell_type": "code",
   "execution_count": 137,
   "id": "56b9478c-a993-4f01-a4b8-967afb91d348",
   "metadata": {},
   "outputs": [],
   "source": [
    "from sklearn.neighbors import KNeighborsClassifier\n",
    "#for k in range(3,8,2):           #start= 3 end=8-1=7   step=2 bcoz we have to the odd number\n",
    "#    Knc =KNeighborsClassifier(n_neighbors=k,metric='minkowski',p=2) \n",
    "    #value of k\n",
    "#    print(\"value of k: \",k)\n",
    "    #call function\n",
    "#    Knc=create_model(Knc)"
   ]
  },
  {
   "cell_type": "code",
   "execution_count": 138,
   "id": "8371e8b2",
   "metadata": {},
   "outputs": [
    {
     "name": "stdout",
     "output_type": "stream",
     "text": [
      "[[1042  540]\n",
      " [ 379 1203]]\n",
      "              precision    recall  f1-score   support\n",
      "\n",
      "           0       0.73      0.66      0.69      1582\n",
      "           1       0.69      0.76      0.72      1582\n",
      "\n",
      "    accuracy                           0.71      3164\n",
      "   macro avg       0.71      0.71      0.71      3164\n",
      "weighted avg       0.71      0.71      0.71      3164\n",
      "\n"
     ]
    }
   ],
   "source": [
    "Knc=KNeighborsClassifier(n_neighbors=7,metric='minkowski',p=2)\n",
    "Knc=create_model(Knc)"
   ]
  },
  {
   "cell_type": "code",
   "execution_count": null,
   "id": "34d3e10b",
   "metadata": {},
   "outputs": [],
   "source": []
  }
 ],
 "metadata": {
  "kernelspec": {
   "display_name": "Python 3 (ipykernel)",
   "language": "python",
   "name": "python3"
  },
  "language_info": {
   "codemirror_mode": {
    "name": "ipython",
    "version": 3
   },
   "file_extension": ".py",
   "mimetype": "text/x-python",
   "name": "python",
   "nbconvert_exporter": "python",
   "pygments_lexer": "ipython3",
   "version": "3.12.1"
  }
 },
 "nbformat": 4,
 "nbformat_minor": 5
}
